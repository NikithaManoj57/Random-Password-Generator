{
 "cells": [
  {
   "cell_type": "code",
   "execution_count": null,
   "id": "99b33773-257a-47e8-8af5-b49e49454296",
   "metadata": {},
   "outputs": [],
   "source": [
    "tasks = []\n",
    "\n",
    "while True:\n",
    "    print(\"\\n1. Add Task\\n2. View Tasks\\n3. Exit\")\n",
    "    choice = input(\"Choose an option: \")\n",
    "\n",
    "    if choice == '1':\n",
    "        task = input(\"Enter task: \")\n",
    "        tasks.append(task)\n",
    "    elif choice == '2':\n",
    "        for i, t in enumerate(tasks, 1):\n",
    "            print(f\"{i}. {t}\")\n",
    "    elif choice == '3':\n",
    "        break\n"
   ]
  }
 ],
 "metadata": {
  "kernelspec": {
   "display_name": "Python 3 (ipykernel)",
   "language": "python",
   "name": "python3"
  },
  "language_info": {
   "codemirror_mode": {
    "name": "ipython",
    "version": 3
   },
   "file_extension": ".py",
   "mimetype": "text/x-python",
   "name": "python",
   "nbconvert_exporter": "python",
   "pygments_lexer": "ipython3",
   "version": "3.12.4"
  }
 },
 "nbformat": 4,
 "nbformat_minor": 5
}
